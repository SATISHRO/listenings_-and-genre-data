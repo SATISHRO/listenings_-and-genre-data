{
 "cells": [
  {
   "cell_type": "markdown",
   "metadata": {},
   "source": [
    "# Welcome to the Notebook"
   ]
  },
  {
   "cell_type": "markdown",
   "metadata": {},
   "source": [
    "# Task 1 :"
   ]
  },
  {
   "cell_type": "markdown",
   "metadata": {},
   "source": [
    "## Installing pyspark module"
   ]
  },
  {
   "cell_type": "code",
   "execution_count": 6,
   "metadata": {
    "scrolled": true
   },
   "outputs": [
    {
     "name": "stdout",
     "output_type": "stream",
     "text": [
      "Collecting pyspark\n",
      "  Downloading https://files.pythonhosted.org/packages/b8/01/b2393cee7f6180d9150274e92c8bdc1c81220e2ad7554ee5febca1866899/pyspark-3.3.0.tar.gz (281.3MB)\n",
      "Collecting py4j==0.10.9.5 (from pyspark)\n",
      "  Downloading https://files.pythonhosted.org/packages/86/ec/60880978512d5569ca4bf32b3b4d7776a528ecf4bca4523936c98c92a3c8/py4j-0.10.9.5-py2.py3-none-any.whl (199kB)\n",
      "Building wheels for collected packages: pyspark\n",
      "  Running setup.py bdist_wheel for pyspark: started\n",
      "  Running setup.py bdist_wheel for pyspark: still running...\n",
      "  Running setup.py bdist_wheel for pyspark: finished with status 'done'\n",
      "  Stored in directory: C:\\Users\\tml\\AppData\\Local\\pip\\Cache\\wheels\\9e\\c1\\93\\d40ec851fc2b278e1056c1353ff95a7a4ef1b219f74ca9c11f\n",
      "Successfully built pyspark\n",
      "Installing collected packages: py4j, pyspark\n",
      "Successfully installed py4j-0.10.9.5 pyspark-3.3.0\n"
     ]
    },
    {
     "name": "stderr",
     "output_type": "stream",
     "text": [
      "twisted 18.7.0 requires PyHamcrest>=1.9.0, which is not installed.\n",
      "mysql-connector-python 8.0.28 requires protobuf>=3.0.0, which is not installed.\n",
      "You are using pip version 10.0.1, however version 22.1.2 is available.\n",
      "You should consider upgrading via the 'python -m pip install --upgrade pip' command.\n"
     ]
    }
   ],
   "source": [
    "!pip install pyspark"
   ]
  },
  {
   "cell_type": "markdown",
   "metadata": {},
   "source": [
    "## Importing the modules"
   ]
  },
  {
   "cell_type": "code",
   "execution_count": 28,
   "metadata": {},
   "outputs": [],
   "source": [
    "import findspark\n",
    "findspark.init()\n",
    "from pyspark.sql import SparkSession\n",
    "from pyspark.sql.functions import count, desc , col, max ,struct\n",
    "\n",
    "import matplotlib.pyplot as plts"
   ]
  },
  {
   "cell_type": "markdown",
   "metadata": {},
   "source": [
    "# creating spark session"
   ]
  },
  {
   "cell_type": "code",
   "execution_count": 2,
   "metadata": {},
   "outputs": [],
   "source": [
    "spark = SparkSession.builder.getOrCreate()"
   ]
  },
  {
   "cell_type": "markdown",
   "metadata": {},
   "source": [
    "# Task 2 :"
   ]
  },
  {
   "cell_type": "markdown",
   "metadata": {},
   "source": [
    "## importing the Listenings.csv file:"
   ]
  },
  {
   "cell_type": "code",
   "execution_count": 4,
   "metadata": {},
   "outputs": [],
   "source": [
    "listening_df=spark.read.format('csv').option('inforschema',True).option('header',True).load('Listenings.csv')"
   ]
  },
  {
   "cell_type": "markdown",
   "metadata": {},
   "source": [
    "## let's check the data:"
   ]
  },
  {
   "cell_type": "code",
   "execution_count": 8,
   "metadata": {},
   "outputs": [
    {
     "name": "stdout",
     "output_type": "stream",
     "text": [
      "+-----------+-------------+--------------------+---------------+--------------------+\n",
      "|    user_id|         date|               track|         artist|               album|\n",
      "+-----------+-------------+--------------------+---------------+--------------------+\n",
      "|000Silenced|1299680100000|           Price Tag|       Jessie J|         Who You Are|\n",
      "|000Silenced|1299679920000|Price Tag (Acoust...|       Jessie J|           Price Tag|\n",
      "|000Silenced|1299679440000|Be Mine! (Ballad ...|          Robyn|            Be Mine!|\n",
      "|000Silenced|1299679200000|            Acapella|          Kelis|            Acapella|\n",
      "|000Silenced|1299675660000|   I'm Not Invisible|      The Tease|   I'm Not Invisible|\n",
      "|000Silenced|1297511400000|Bounce (Feat NORE...|       MSTRKRFT|         Fist of God|\n",
      "|000Silenced|1294498440000|Don't Stop The Mu...|        Rihanna|Addicted 2 Bassli...|\n",
      "|000Silenced|1292438340000|               ObZen|      Meshuggah|               ObZen|\n",
      "|000Silenced|1292437740000|   Yama's Messengers|         Gojira|The Way of All Flesh|\n",
      "|000Silenced|1292436360000|On the Brink of E...|   Napalm Death|Time Waits For No...|\n",
      "|000Silenced|1292436360000|On the Brink of E...|   Napalm Death|Time Waits For No...|\n",
      "|000Silenced|1292435940000|        In Deference|   Napalm Death|      Smear Campaign|\n",
      "|000Silenced|1292434920000|      Post(?)organic|    Decapitated|Organic Hallucinosis|\n",
      "|000Silenced|1292434560000|        Mind Feeders|   Dom & Roland| No Strings Attached|\n",
      "|000Silenced|1292434320000|Necrosadistic War...|Cannibal Corpse|                Kill|\n",
      "|000Silenced|1292365560000|     Dance All Night|   Dom & Roland|          Chronology|\n",
      "|000Silenced|1292365260000|          Late Night|   Dom & Roland|          Chronology|\n",
      "|000Silenced|1292365020000|          Freak Seen|   Dom & Roland|          Chronology|\n",
      "|000Silenced|1292364720000|Paradrenasite (Hi...|   Dom & Roland|          Chronology|\n",
      "|000Silenced|1292364300000|               Rhino|   Dom & Roland|          Chronology|\n",
      "+-----------+-------------+--------------------+---------------+--------------------+\n",
      "only showing top 20 rows\n",
      "\n"
     ]
    }
   ],
   "source": [
    "listening_df.show()"
   ]
  },
  {
   "cell_type": "markdown",
   "metadata": {},
   "source": [
    "## let's delete useless columns:"
   ]
  },
  {
   "cell_type": "code",
   "execution_count": 8,
   "metadata": {},
   "outputs": [],
   "source": [
    "listening_df = listening_df.drop('date')"
   ]
  },
  {
   "cell_type": "markdown",
   "metadata": {},
   "source": [
    "## drop the null rows:"
   ]
  },
  {
   "cell_type": "code",
   "execution_count": 14,
   "metadata": {},
   "outputs": [],
   "source": [
    "listening_df= listening_df.na.drop()"
   ]
  },
  {
   "cell_type": "markdown",
   "metadata": {},
   "source": [
    "## let's check the dataset again:"
   ]
  },
  {
   "cell_type": "code",
   "execution_count": 10,
   "metadata": {},
   "outputs": [
    {
     "name": "stdout",
     "output_type": "stream",
     "text": [
      "+-----------+--------------------+---------------+--------------------+\n",
      "|    user_id|               track|         artist|               album|\n",
      "+-----------+--------------------+---------------+--------------------+\n",
      "|000Silenced|           Price Tag|       Jessie J|         Who You Are|\n",
      "|000Silenced|Price Tag (Acoust...|       Jessie J|           Price Tag|\n",
      "|000Silenced|Be Mine! (Ballad ...|          Robyn|            Be Mine!|\n",
      "|000Silenced|            Acapella|          Kelis|            Acapella|\n",
      "|000Silenced|   I'm Not Invisible|      The Tease|   I'm Not Invisible|\n",
      "|000Silenced|Bounce (Feat NORE...|       MSTRKRFT|         Fist of God|\n",
      "|000Silenced|Don't Stop The Mu...|        Rihanna|Addicted 2 Bassli...|\n",
      "|000Silenced|               ObZen|      Meshuggah|               ObZen|\n",
      "|000Silenced|   Yama's Messengers|         Gojira|The Way of All Flesh|\n",
      "|000Silenced|On the Brink of E...|   Napalm Death|Time Waits For No...|\n",
      "|000Silenced|On the Brink of E...|   Napalm Death|Time Waits For No...|\n",
      "|000Silenced|        In Deference|   Napalm Death|      Smear Campaign|\n",
      "|000Silenced|      Post(?)organic|    Decapitated|Organic Hallucinosis|\n",
      "|000Silenced|        Mind Feeders|   Dom & Roland| No Strings Attached|\n",
      "|000Silenced|Necrosadistic War...|Cannibal Corpse|                Kill|\n",
      "|000Silenced|     Dance All Night|   Dom & Roland|          Chronology|\n",
      "|000Silenced|          Late Night|   Dom & Roland|          Chronology|\n",
      "|000Silenced|          Freak Seen|   Dom & Roland|          Chronology|\n",
      "|000Silenced|Paradrenasite (Hi...|   Dom & Roland|          Chronology|\n",
      "|000Silenced|               Rhino|   Dom & Roland|          Chronology|\n",
      "+-----------+--------------------+---------------+--------------------+\n",
      "only showing top 20 rows\n",
      "\n"
     ]
    }
   ],
   "source": [
    "listening_df.show()"
   ]
  },
  {
   "cell_type": "markdown",
   "metadata": {},
   "source": [
    "## let's see the schema:"
   ]
  },
  {
   "cell_type": "code",
   "execution_count": 12,
   "metadata": {},
   "outputs": [
    {
     "name": "stdout",
     "output_type": "stream",
     "text": [
      "root\n",
      " |-- user_id: string (nullable = true)\n",
      " |-- track: string (nullable = true)\n",
      " |-- artist: string (nullable = true)\n",
      " |-- album: string (nullable = true)\n",
      "\n"
     ]
    }
   ],
   "source": [
    "listening_df.printSchema()"
   ]
  },
  {
   "cell_type": "markdown",
   "metadata": {},
   "source": [
    "## let's see the shape of our dataframe:"
   ]
  },
  {
   "cell_type": "code",
   "execution_count": 15,
   "metadata": {},
   "outputs": [
    {
     "name": "stdout",
     "output_type": "stream",
     "text": [
      "(13758905, 4)\n"
     ]
    }
   ],
   "source": [
    "shape=(listening_df.count(),len(listening_df.columns))\n",
    "print(shape)"
   ]
  },
  {
   "cell_type": "markdown",
   "metadata": {},
   "source": [
    "# Task 3:"
   ]
  },
  {
   "cell_type": "markdown",
   "metadata": {},
   "source": [
    "## Query #0: select two columns: track and artist"
   ]
  },
  {
   "cell_type": "code",
   "execution_count": 5,
   "metadata": {},
   "outputs": [
    {
     "name": "stdout",
     "output_type": "stream",
     "text": [
      "+--------------------+---------------+\n",
      "|               track|         artist|\n",
      "+--------------------+---------------+\n",
      "|           Price Tag|       Jessie J|\n",
      "|Price Tag (Acoust...|       Jessie J|\n",
      "|Be Mine! (Ballad ...|          Robyn|\n",
      "|            Acapella|          Kelis|\n",
      "|   I'm Not Invisible|      The Tease|\n",
      "|Bounce (Feat NORE...|       MSTRKRFT|\n",
      "|Don't Stop The Mu...|        Rihanna|\n",
      "|               ObZen|      Meshuggah|\n",
      "|   Yama's Messengers|         Gojira|\n",
      "|On the Brink of E...|   Napalm Death|\n",
      "|On the Brink of E...|   Napalm Death|\n",
      "|        In Deference|   Napalm Death|\n",
      "|      Post(?)organic|    Decapitated|\n",
      "|        Mind Feeders|   Dom & Roland|\n",
      "|Necrosadistic War...|Cannibal Corpse|\n",
      "|     Dance All Night|   Dom & Roland|\n",
      "|          Late Night|   Dom & Roland|\n",
      "|          Freak Seen|   Dom & Roland|\n",
      "|Paradrenasite (Hi...|   Dom & Roland|\n",
      "|               Rhino|   Dom & Roland|\n",
      "+--------------------+---------------+\n",
      "only showing top 20 rows\n",
      "\n"
     ]
    }
   ],
   "source": [
    "q0=listening_df.select('track','artist')\n",
    "q0.show()"
   ]
  },
  {
   "cell_type": "markdown",
   "metadata": {},
   "source": [
    "## Query #1:\n",
    "Let's find all of the records of those users who have listened to Rihanna"
   ]
  },
  {
   "cell_type": "code",
   "execution_count": 9,
   "metadata": {},
   "outputs": [
    {
     "name": "stdout",
     "output_type": "stream",
     "text": [
      "+-----------+--------------------+-------+--------------------+\n",
      "|    user_id|               track| artist|               album|\n",
      "+-----------+--------------------+-------+--------------------+\n",
      "|000Silenced|Don't Stop The Mu...|Rihanna|Addicted 2 Bassli...|\n",
      "|000Silenced|           Disturbia|Rihanna|Good Girl Gone Ba...|\n",
      "|00williamsl|Rihanna - We All ...|Rihanna|                null|\n",
      "|00williamsl|   Hatin On The Club|Rihanna|              Random|\n",
      "|00williamsl|   Hatin On The Club|Rihanna|              Random|\n",
      "|00williamsl|         Complicated|Rihanna|                Loud|\n",
      "|00williamsl|What's My Name (f...|Rihanna|                Loud|\n",
      "|00williamsl|Kanye West feat R...|Rihanna|                Loud|\n",
      "|    0502008|Only Girl (In the...|Rihanna|                Loud|\n",
      "|      0rdos|Pon De Replay (Re...|Rihanna|    Music of the Sun|\n",
      "|      0rdos|          Now I Know|Rihanna|    Music of the Sun|\n",
      "|      0rdos|There's a Thug in...|Rihanna|    Music of the Sun|\n",
      "|      0rdos|                Rush|Rihanna|    Music of the Sun|\n",
      "|      0rdos|              Let Me|Rihanna|    Music of the Sun|\n",
      "|      0rdos|    Music of the Sun|Rihanna|    Music of the Sun|\n",
      "|      0rdos|     Willing to Wait|Rihanna|    Music of the Sun|\n",
      "|      0rdos|       The Last Time|Rihanna|    Music of the Sun|\n",
      "|      0rdos|If It's Lovin' Th...|Rihanna|    Music of the Sun|\n",
      "|      0rdos|     Here I Go Again|Rihanna|    Music of the Sun|\n",
      "|      0rdos|       Pon de Replay|Rihanna|    Music of the Sun|\n",
      "+-----------+--------------------+-------+--------------------+\n",
      "only showing top 20 rows\n",
      "\n"
     ]
    }
   ],
   "source": [
    "q1=listening_df.select('*').filter(listening_df.artist==\"Rihanna\").show()"
   ]
  },
  {
   "cell_type": "markdown",
   "metadata": {},
   "source": [
    "## Query #2:\n",
    "Let's find top 10 users who are fan of Rihanna"
   ]
  },
  {
   "cell_type": "code",
   "execution_count": 10,
   "metadata": {},
   "outputs": [
    {
     "name": "stdout",
     "output_type": "stream",
     "text": [
      "+---------------+-----+\n",
      "|        user_id|count|\n",
      "+---------------+-----+\n",
      "|        thiessu|  179|\n",
      "|    eyessetkyle|  166|\n",
      "|           adxx|  164|\n",
      "|missnumberthree|  156|\n",
      "|helloiamnatalie|  128|\n",
      "|          nmjnb|  124|\n",
      "|        AndyyyA|  123|\n",
      "|     BIGBANG186|  121|\n",
      "|     mixedvibes|  120|\n",
      "|       AndyKitt|  115|\n",
      "+---------------+-----+\n",
      "\n"
     ]
    }
   ],
   "source": [
    "q2=listening_df.select('user_id').filter(listening_df.artist=='Rihanna').groupBy('user_id').agg(count('user_id').alias('count')).orderBy(desc('count')).limit(10)\n",
    "q2.show()"
   ]
  },
  {
   "cell_type": "markdown",
   "metadata": {},
   "source": [
    "## Query #3:\n",
    "find top 10 famous tracks"
   ]
  },
  {
   "cell_type": "code",
   "execution_count": 11,
   "metadata": {},
   "outputs": [
    {
     "name": "stdout",
     "output_type": "stream",
     "text": [
      "+--------------------+-----------------+-----+\n",
      "|              artist|            track|count|\n",
      "+--------------------+-----------------+-----+\n",
      "|       Justin Bieber|            Sorry| 3492|\n",
      "|      Arctic Monkeys| Do I Wanna Know?| 2986|\n",
      "|            Bon Iver|      Skinny Love| 2933|\n",
      "|         The Killers|    Mr Brightside| 2844|\n",
      "|                Zayn|       PILLOWTALK| 2772|\n",
      "|            Bastille|          Pompeii| 2752|\n",
      "|      Mumford & Sons|  Little Lion Man| 2725|\n",
      "|             Rihanna|             Work| 2691|\n",
      "|      Mumford & Sons|         The Cave| 2653|\n",
      "|Florence + the Ma...|Dog Days Are Over| 2606|\n",
      "+--------------------+-----------------+-----+\n",
      "\n"
     ]
    }
   ],
   "source": [
    "q3=listening_df.select('artist','track').groupBy('artist','track').agg(count('*').alias('count')).orderBy(desc('count')).limit(10)\n",
    "q3.show()"
   ]
  },
  {
   "cell_type": "markdown",
   "metadata": {},
   "source": [
    "## Query #4:\n",
    "find top 10 famous tracks of Rihanna"
   ]
  },
  {
   "cell_type": "code",
   "execution_count": 12,
   "metadata": {},
   "outputs": [
    {
     "name": "stdout",
     "output_type": "stream",
     "text": [
      "+-------+--------------------+-----+\n",
      "| artist|               track|count|\n",
      "+-------+--------------------+-----+\n",
      "|Rihanna|                Work| 2691|\n",
      "|Rihanna|Only Girl (In the...| 1829|\n",
      "|Rihanna|We Found Love (fe...| 1754|\n",
      "|Rihanna|            Rude Boy| 1390|\n",
      "|Rihanna|                 S&M| 1368|\n",
      "|Rihanna|            Diamonds| 1314|\n",
      "|Rihanna|      Kiss it Better|  953|\n",
      "|Rihanna| Where Have You Been|  899|\n",
      "|Rihanna|Cheers (Drink to ...|  715|\n",
      "|Rihanna|           Disturbia|  691|\n",
      "+-------+--------------------+-----+\n",
      "\n"
     ]
    }
   ],
   "source": [
    "q4=listening_df.select('artist','track').filter(listening_df.artist=='Rihanna').groupBy('artist','track').agg(count('*').alias('count')).orderBy(desc('count')).limit(10)\n",
    "q4.show()"
   ]
  },
  {
   "cell_type": "markdown",
   "metadata": {},
   "source": [
    "## Query #5:\n",
    "find top 10 famous albums"
   ]
  },
  {
   "cell_type": "code",
   "execution_count": 13,
   "metadata": {},
   "outputs": [
    {
     "name": "stdout",
     "output_type": "stream",
     "text": [
      "+--------------------+--------------------+-----+\n",
      "|              artist|               album|count|\n",
      "+--------------------+--------------------+-----+\n",
      "|          Kanye West|   The Life Of Pablo|22310|\n",
      "|              The xx|                  xx|14195|\n",
      "|      Arctic Monkeys|                  AM|14090|\n",
      "|               alt-J|     An Awesome Wave|13635|\n",
      "|      Mumford & Sons|        Sigh No More|13543|\n",
      "|      Arctic Monkeys|Whatever People S...|12731|\n",
      "|            Bon Iver|            For Emma|11994|\n",
      "|              Grimes|          Art Angels|11655|\n",
      "|Florence + the Ma...|               Lungs|11362|\n",
      "|               Adele|                  21|11215|\n",
      "+--------------------+--------------------+-----+\n",
      "\n"
     ]
    }
   ],
   "source": [
    "q5=listening_df.select('artist','album').groupBy('artist','album').agg(count('*').alias('count')).orderBy(desc('count')).limit(10)\n",
    "q5.show()"
   ]
  },
  {
   "cell_type": "markdown",
   "metadata": {},
   "source": [
    "# Task 4 :"
   ]
  },
  {
   "cell_type": "markdown",
   "metadata": {},
   "source": [
    "## importing the genre.csv file:"
   ]
  },
  {
   "cell_type": "code",
   "execution_count": 14,
   "metadata": {},
   "outputs": [],
   "source": [
    "genre_df=spark.read.format('csv').option('inforschema',True).option('header',True).load('genre.csv')"
   ]
  },
  {
   "cell_type": "markdown",
   "metadata": {},
   "source": [
    "## let's check the data"
   ]
  },
  {
   "cell_type": "code",
   "execution_count": 15,
   "metadata": {},
   "outputs": [
    {
     "name": "stdout",
     "output_type": "stream",
     "text": [
      "+--------------------+-----+\n",
      "|              artist|genre|\n",
      "+--------------------+-----+\n",
      "|                Muse| rock|\n",
      "|             Nirvana| rock|\n",
      "|            Bon Jovi| rock|\n",
      "|          The Police| rock|\n",
      "|                Kiss| rock|\n",
      "|       Guns N' Roses| rock|\n",
      "|         Rusted Root| rock|\n",
      "|Katrina and the W...|  pop|\n",
      "|         The Beatles| rock|\n",
      "|        Hall & Oates|  pop|\n",
      "|        Otis Redding| soul|\n",
      "|         Marvin Gaye| soul|\n",
      "|     The Cranberries| rock|\n",
      "|            Survivor| rock|\n",
      "|       Fleetwood Mac|blues|\n",
      "|           Radiohead| rock|\n",
      "|                Toto| rock|\n",
      "|                  U2| rock|\n",
      "|Creedence Clearwa...| rock|\n",
      "|                 REM| rock|\n",
      "+--------------------+-----+\n",
      "only showing top 20 rows\n",
      "\n"
     ]
    }
   ],
   "source": [
    "genre_df.show()"
   ]
  },
  {
   "cell_type": "markdown",
   "metadata": {},
   "source": [
    "## Let's inner join these two data frames"
   ]
  },
  {
   "cell_type": "code",
   "execution_count": 19,
   "metadata": {},
   "outputs": [],
   "source": [
    " jin=listening_df.join(genre_df, listening_df.artist == genre_df.artist, 'inner')"
   ]
  },
  {
   "cell_type": "markdown",
   "metadata": {},
   "source": [
    "## Query #6\n",
    "find top 10 users who are fan of pop music"
   ]
  },
  {
   "cell_type": "code",
   "execution_count": 20,
   "metadata": {},
   "outputs": [
    {
     "name": "stdout",
     "output_type": "stream",
     "text": [
      "+---------------+-----+\n",
      "|        user_id|count|\n",
      "+---------------+-----+\n",
      "|        01Green|  496|\n",
      "|      momousagi|  400|\n",
      "|          mrpsb|  400|\n",
      "|    musicboy80s|  384|\n",
      "|   BlueKnockOut|  378|\n",
      "|  incultojurgis|  374|\n",
      "| ElektricOrchid|  371|\n",
      "|foreign_fanatic|  350|\n",
      "|   Kevin_Soutar|  346|\n",
      "|        DP_Sage|  320|\n",
      "+---------------+-----+\n",
      "\n"
     ]
    }
   ],
   "source": [
    "q6=jin.select('user_id').filter(jin.genre=='pop').groupBy('user_id').agg(count('*').alias('count')).orderBy(desc('count')).limit(10)\n",
    "q6.show()"
   ]
  },
  {
   "cell_type": "markdown",
   "metadata": {},
   "source": [
    "## Query #7\n",
    "find top 10 famous genres"
   ]
  },
  {
   "cell_type": "code",
   "execution_count": 21,
   "metadata": {},
   "outputs": [
    {
     "name": "stdout",
     "output_type": "stream",
     "text": [
      "+----------+-------+\n",
      "|     genre|  count|\n",
      "+----------+-------+\n",
      "|      rock|2811365|\n",
      "|       pop|1653729|\n",
      "|electronic| 590315|\n",
      "|   hip hop| 568489|\n",
      "|      folk| 460192|\n",
      "|indie rock| 450651|\n",
      "|      punk| 397175|\n",
      "|       r&b| 370578|\n",
      "|     indie| 220224|\n",
      "|     metal| 217371|\n",
      "+----------+-------+\n",
      "\n"
     ]
    }
   ],
   "source": [
    "q7=jin.select('genre').groupBy('genre').agg(count('*').alias('count')).orderBy(desc('count')).limit(10)\n",
    "q7.show()"
   ]
  },
  {
   "cell_type": "markdown",
   "metadata": {},
   "source": [
    "# Task 5:"
   ]
  },
  {
   "cell_type": "markdown",
   "metadata": {},
   "source": [
    "## Query #8\n",
    "find out each user favourite genre"
   ]
  },
  {
   "cell_type": "code",
   "execution_count": 22,
   "metadata": {},
   "outputs": [
    {
     "name": "stdout",
     "output_type": "stream",
     "text": [
      "+-------+--------------------+------+\n",
      "|user_id|               genre|couunt|\n",
      "+-------+--------------------+------+\n",
      "| --Seph|               indie|     3|\n",
      "| --Seph|  progressive trance|     1|\n",
      "| --Seph|               Ruben|     4|\n",
      "| --Seph| Boston Pops Orch...|     1|\n",
      "| --Seph|          Nils Frahm|     1|\n",
      "| --Seph|          electropop|     1|\n",
      "| --Seph|   Alesso Feat Hurts|     1|\n",
      "| --Seph|                folk|    10|\n",
      "| --Seph|               dance|     1|\n",
      "| --Seph| The Ambrosian Si...|     1|\n",
      "| --Seph|     Jennifer Vyvyan|     1|\n",
      "| --Seph|          Thom Yorke|     2|\n",
      "| --Seph|           indie pop|     1|\n",
      "| --Seph|   progressive house|     1|\n",
      "| --Seph| Tamás Vásáry & Y...|     1|\n",
      "| --Seph|                soul|     1|\n",
      "| --Seph|               house|     3|\n",
      "| --Seph| Sir Colin Davis ...|     1|\n",
      "| --Seph|           classical|    32|\n",
      "| --Seph|               metal|     1|\n",
      "+-------+--------------------+------+\n",
      "only showing top 20 rows\n",
      "\n"
     ]
    }
   ],
   "source": [
    "q8=jin.select('user_id','genre').groupBy('user_id','genre').agg(count('*').alias('couunt')).orderBy('user_id')\n",
    "q8.show()"
   ]
  },
  {
   "cell_type": "code",
   "execution_count": 23,
   "metadata": {},
   "outputs": [
    {
     "name": "stdout",
     "output_type": "stream",
     "text": [
      "+---------------+-----------------+\n",
      "|        user_id|            genre|\n",
      "+---------------+-----------------+\n",
      "|        -Gemma-|      british pop|\n",
      "|        247flix|         synthpop|\n",
      "|     A3sahaettr|            metal|\n",
      "|        AYFBlog|       indie rock|\n",
      "|      AceFaceUK|             rock|\n",
      "|  AdamMcSpaddam|             rock|\n",
      "|        Alukarl|      death metal|\n",
      "|       Ambalina|              pop|\n",
      "|        AndyEgg|             rock|\n",
      "| AngerisaGift14|             rock|\n",
      "|      Anndddyyy|             rock|\n",
      "|     BasilBrush|             rock|\n",
      "|     BernieLick|             rock|\n",
      "|      Big_Tiger|            indie|\n",
      "|          Birks|singer-songwriter|\n",
      "|         BolaJA|             rock|\n",
      "|        Boone92|        metalcore|\n",
      "|CameronWhittall|              pop|\n",
      "|        Ceolmor|       electronic|\n",
      "| CheeseMonkey91|              emo|\n",
      "+---------------+-----------------+\n",
      "only showing top 20 rows\n",
      "\n"
     ]
    }
   ],
   "source": [
    "q82=q8.groupBy('user_id').agg(max(struct(col('couunt'),col('genre'))).alias('max')).select(col('user_id'),col('max.genre'))\n",
    "q82.show()"
   ]
  },
  {
   "cell_type": "markdown",
   "metadata": {},
   "source": [
    "## Query #9"
   ]
  },
  {
   "cell_type": "code",
   "execution_count": 24,
   "metadata": {},
   "outputs": [
    {
     "name": "stdout",
     "output_type": "stream",
     "text": [
      "+-------+-----+\n",
      "|  genre|count|\n",
      "+-------+-----+\n",
      "|    pop| 6960|\n",
      "|hip hop| 4288|\n",
      "|  metal| 1854|\n",
      "|   rock| 9066|\n",
      "+-------+-----+\n",
      "\n"
     ]
    }
   ],
   "source": [
    "q9=genre_df.select('genre').filter((col('genre')=='pop')|(col('genre')=='rock')| (col('genre')=='metal')| (col('genre')=='hip hop')).groupBy('genre').agg(count('genre').alias('count'))\n",
    "q9.show()"
   ]
  },
  {
   "cell_type": "markdown",
   "metadata": {},
   "source": [
    "## Now, let's visualize the results using matplotlib"
   ]
  },
  {
   "cell_type": "code",
   "execution_count": 29,
   "metadata": {},
   "outputs": [],
   "source": [
    "q9_list=q9.collect()"
   ]
  },
  {
   "cell_type": "code",
   "execution_count": 30,
   "metadata": {},
   "outputs": [],
   "source": [
    "lables=[row['genre'] for row in q9_list]\n",
    "counts=[row['count'] for row in q9_list]"
   ]
  },
  {
   "cell_type": "code",
   "execution_count": 31,
   "metadata": {},
   "outputs": [
    {
     "name": "stdout",
     "output_type": "stream",
     "text": [
      "['pop', 'hip hop', 'metal', 'rock']\n",
      "[6960, 4288, 1854, 9066]\n"
     ]
    }
   ],
   "source": [
    "print(lables)\n",
    "print(counts)"
   ]
  },
  {
   "cell_type": "markdown",
   "metadata": {},
   "source": [
    "## now lets visualize these two lists using a bar chart"
   ]
  },
  {
   "cell_type": "code",
   "execution_count": 32,
   "metadata": {
    "scrolled": true
   },
   "outputs": [
    {
     "data": {
      "text/plain": [
       "<BarContainer object of 4 artists>"
      ]
     },
     "execution_count": 32,
     "metadata": {},
     "output_type": "execute_result"
    },
    {
     "data": {
      "image/png": "[encoded data removed]",
      "text/plain": [
       "<Figure size 1152x720 with 1 Axes>"
      ]
     },
     "metadata": {},
     "output_type": "display_data"
    }
   ],
   "source": [
    "plts.bar(lables,counts)"
   ]
  },
  {
   "cell_type": "markdown",
   "metadata": {},
   "source": [
    "# Done !!"
   ]
  },
  {
   "cell_type": "markdown",
   "metadata": {},
   "source": [
    "## Here we clean the data and handle misssing values with the mean value of that particular column and fill wih it. now this data is further Analysis."
   ]
  },
  {
   "cell_type": "markdown",
   "metadata": {},
   "source": [
    "### Author : Satish Bamroliya"
   ]
  }
 ],
 "metadata": {
  "kernelspec": {
   "display_name": "Python 3",
   "language": "python",
   "name": "python3"
  },
  "language_info": {
   "codemirror_mode": {
    "name": "ipython",
    "version": 3
   },
   "file_extension": ".py",
   "mimetype": "text/x-python",
   "name": "python",
   "nbconvert_exporter": "python",
   "pygments_lexer": "ipython3",
   "version": "3.7.0"
  }
 },
 "nbformat": 4,
 "nbformat_minor": 2
}
